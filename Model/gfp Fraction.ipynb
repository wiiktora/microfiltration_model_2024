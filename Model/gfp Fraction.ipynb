{
 "cells": [
  {
   "cell_type": "code",
   "execution_count": 1,
   "metadata": {},
   "outputs": [],
   "source": [
    "import math\n",
    "import pandas as pd\n",
    "from scipy.optimize import minimize_scalar\n",
    "import matplotlib.pyplot as plt\n",
    "#data\n",
    "L= 0.3 # module length in meters\n",
    "n_f = 6 #number of fibers\n",
    "i_d = 1.27e-3#internal diameter m\n",
    "p_s = 0.1e-6 #pore size in meters\n",
    "T = 298 #K\n",
    "gamma_w = 32400#shear rate s-1\n",
    "phi_m = 0.64\n",
    "eta_0 = 0.001#Pa.second viscosity of hte TGM\n",
    "rho_p = 1300 #kg/m3 density of the particles\n",
    "rho_f = 1000 #kg/m3 density of the fluid\n",
    "k_B = 1.38064852e-23 #J/mol/K Boltzmann constant\n",
    "\n",
    "# Particle sizes (in meters)\n",
    "particles = [\n",
    "    {'name': '4nm', 'radius': 4e-9, 'phi_b': 0.005},\n",
    "    {'name': '40nm', 'radius': 40e-9, 'phi_b': 0.008},\n",
    "    {'name': '70nm', 'radius': 70e-9, 'phi_b': 0.021},\n",
    "    {'name': '120nm', 'radius': 120e-9, 'phi_b': 0.018},\n",
    "    {'name': '190nm', 'radius': 190e-9, 'phi_b': 0.01},\n",
    "    {'name': '320nm', 'radius': 320e-9, 'phi_b': 0.008},\n",
    "    {'name': '700nm', 'radius': 700e-9, 'phi_b': 0.014},\n",
    "    #  {'name': '2500nm', 'radius': 2500e-9, 'phi_b': 0.007},\n",
    "]\n",
    " #guess for the volume fraction of solute at the membrane wall\n",
    "phi_w_guess = [0.64] * len(particles)\n",
    "phi_w_dict={key:values for key, values in zip([particle['radius'] for particle in particles], phi_w_guess)}\n",
    "target_species = 4e-9 \n",
    "#equations\n",
    "#Step 2 - evaluate the viscosity\n",
    "    # no particle-particle interactions - dillute suspensions\n",
    "def viscosity_no_PP(eta_0,phi_b,k1):\n",
    "    \"\"\"eta_0 - viscosity of the dispersion medium\n",
    "    phi - volume in parts occupied by the dispersed solid\n",
    "    k1 = shape factor\"\"\"\n",
    "    if phi_b<0.1:\n",
    "        eta_phi = eta_0*(1+5/2*phi_b)\n",
    "    elif phi_b>=0.1:\n",
    "        eta_phi = eta_0*(1+5/2*phi_b+k1*phi_b**2)\n",
    "    return eta_phi\n",
    "# print(eta_f)    \n",
    "\n",
    "eta_f = viscosity_no_PP(eta_0,sum(particles['phi_b'] for particles in particles),10)\n",
    "diffusion_coeff = (k_B * T) / (6 * math.pi * eta_f * target_species)\n",
    "\n",
    "\n",
    "#k1 around 10 for spheres\n",
    "#not sure about the shape factor\n",
    "\n",
    "def max_agg_packing (phi_m):\n",
    "    phi_Max=phi_m+phi_m*(1-phi_m)+0.74*(1- (phi_m+ phi_m*(1-phi_m)))\n",
    "    return phi_Max\n",
    "phi_M = max_agg_packing(phi_m)\n",
    "\n",
    "\n",
    "#step 3 - maximum back-transport velocity, u (m/s)- Brownian, shear-infuced and intertial lift - Full retention of all solutes\n",
    " #particle volume franction at the membrane wall for each particle size for the first iteration\n",
    "#J_flux = 30 #LMH\n",
    "\n",
    "\n",
    "def J_brownian(a, phi_w, phi_b):\n",
    "    numerator = gamma_w * (k_B ** 2) * (T ** 2)\n",
    "    denominator = (eta_f ** 2) * (a ** 2) * L\n",
    "    term = (numerator / denominator) ** (1/3)\n",
    "    if phi_w >phi_b:\n",
    "         J = 0.114 * term * math.log(phi_w / phi_b)\n",
    "    else:\n",
    "        J=0\n",
    "    return J\n",
    "\n",
    "# Function to calculate J for shear-induced diffusion\n",
    "def J_shear(a, phi_w, phi_b):\n",
    "    term = (a ** 4 / L) ** (1/3)\n",
    "    if phi_w >phi_b:\n",
    "        J = 0.078 * term * gamma_w * abs(math.log(phi_w / phi_b))\n",
    "    else:\n",
    "        J=0\n",
    "    return J\n",
    "\n",
    "# Function to calculate J for inertial lift\n",
    "def J_inertial(a):\n",
    "    J = (0.036 * rho_p * (a ** 3) * (gamma_w ** 2)) / eta_f\n",
    "    return J\n",
    "#J solvent permeation flux (m/s)\n",
    "\n",
    "\n",
    "set_data = pd.DataFrame(columns=['name', 'radius', 'max_velocity', 'source'])\n",
    "\n",
    "def min_flux(Particles, phi_w_list):\n",
    "    \"\"\" have to put particles list with radius and phi_b,\n",
    "    phi_w_list with phi_w\n",
    "    results ai_target, J_flux and dataframe\"\"\"\n",
    "    \n",
    "    min_velocity = float('inf')\n",
    "    selected_particle_radius = None\n",
    "    velocities_list=[]\n",
    "\n",
    "    for particle, phi_w in zip(Particles, phi_w_list):\n",
    "        a = particle['radius']\n",
    "        phi_b = particle['phi_b']\n",
    "        \n",
    "        # Calculate velocities\n",
    "        brownian_velocity = J_brownian(a, phi_w, phi_b)\n",
    "        shear_velocity = J_shear(a, phi_w, phi_b)\n",
    "        inertial_velocity = J_inertial(a)\n",
    "        \n",
    "        # Find the maximum velocity\n",
    "        max_velocity = max(brownian_velocity, inertial_velocity, shear_velocity)\n",
    "        \n",
    "        # Determine the source of the maximum velocity\n",
    "        source = 'brownian' if max_velocity == brownian_velocity else 'inertial' if max_velocity == inertial_velocity else 'shear'\n",
    "        \n",
    "        # Update set_data by replacing previous row or adding a new one\n",
    "        if particle['name'] in set_data['name'].values:\n",
    "            set_data.loc[set_data['name'] == particle['name'], ['radius', 'max_velocity', 'source']] = [a, max_velocity, source]\n",
    "        else:\n",
    "            set_data.loc[len(set_data)] = [particle['name'], a, max_velocity, source]\n",
    "        # Store all velocities in the DataFrame\n",
    "        velocities_list.append({\n",
    "            'name': particle['name'],\n",
    "            'radius': a,\n",
    "            'brownian_velocity': brownian_velocity,\n",
    "            'shear_velocity': shear_velocity,\n",
    "            'inertial_velocity': inertial_velocity\n",
    "        })\n",
    "        velocities_df=pd.DataFrame(velocities_list)\n",
    "        # Check for the minimum velocity\n",
    "        if max_velocity < min_velocity:\n",
    "            min_velocity = max_velocity\n",
    "            selected_particle_radius = a\n",
    "\n",
    "    return selected_particle_radius, min_velocity, set_data,velocities_df\n",
    "\n",
    "# Initialize variables for particles and inertial-lift properties\n",
    "# ai_target, min_vel, dataf= min_flux(particles, phi_w_guess)\n",
    "\n",
    "# Function to calculate φ_w for each particle size\n",
    "def calculate_phi_w(Particles, a_target, min_velocity, data):\n",
    "    count = 0\n",
    "    # Dictionaries to store results\n",
    "    phi_w_J_dict = {}\n",
    "    phi_wjI_dict = {}\n",
    "    inertial_particles = []\n",
    "    \n",
    "    for particle in Particles:\n",
    "        a_particle = particle['radius']\n",
    "        phi_b_particle = particle['phi_b']\n",
    "        \n",
    "        if a_particle != a_target:\n",
    "            # Retrieve the velocity source from the data DataFrame\n",
    "            source = data.loc[data['radius'] == a_particle, 'source'].values[0]\n",
    "            \n",
    "            # Use the source to choose the max_velocity\n",
    "            if source == 'inertial':\n",
    "                max_velocity = J_inertial(a_particle)\n",
    "            elif source == 'shear':\n",
    "                max_velocity = J_shear(a_particle, phi_w_dict.get(a_particle, 0.64), phi_b_particle)\n",
    "            elif source == 'brownian':\n",
    "                max_velocity = J_brownian(a_particle, phi_w_dict.get(a_particle, 0.64), phi_b_particle)\n",
    "            else:\n",
    "                raise ValueError(f\"Unknown source {source} for particle {a_particle}\")\n",
    "\n",
    "            if max_velocity >= 10 * min_velocity and source == 'inertial':\n",
    "                # Handle inertial particles\n",
    "                phi_wjI = 0\n",
    "                phi_wjI_dict[a_particle] = phi_wjI\n",
    "                phi_w_dict[a_particle] = phi_wjI\n",
    "                phi_w_J_dict[a_particle] = phi_wjI\n",
    "                inertial_particles.append((a_particle, phi_b_particle, max_velocity))\n",
    "            elif source == \"inertial\":\n",
    "                count += 1\n",
    "            elif source ==\"brownian\" or source ==\"shear\":\n",
    "                # Define the objective function based on the source\n",
    "                def objective_function(phi_w_particle):\n",
    "                    # Recalculate velocities based on the current wall concentration phi_w_particle\n",
    "                    if source == 'brownian':\n",
    "                        max_velocity = J_brownian(a_particle, phi_w_particle, phi_b_particle)\n",
    "                    elif source == 'shear':\n",
    "                        max_velocity = J_shear(a_particle, phi_w_particle, phi_b_particle)\n",
    "                    # elif source == 'inertial':\n",
    "                    #     max_velocity = J_inertial(a_particle)\n",
    "                    return abs(max_velocity - min_velocity)\n",
    "\n",
    "                # Minimize the objective function to find the optimal phi_w for the particle\n",
    "                result = minimize_scalar(objective_function, bounds=(0, 0.64), method='bounded')\n",
    "\n",
    "                if result.success:\n",
    "                    phi_w_optimal = result.x\n",
    "                    phi_w_dict[a_particle] = phi_w_optimal\n",
    "                    phi_w_J_dict[a_particle] = phi_w_optimal\n",
    "                else:\n",
    "                    print(f\"Optimization failed for particle radius {a_particle:.1e} m\")\n",
    "    \n",
    "    # Handle inertial particles after processing all particles\n",
    "    if count == 1:\n",
    "        for a, phi_b, u_j in inertial_particles:\n",
    "            if phi_w_J_dict[a]!=0:\n",
    "                phi_wjI = phi_M - sum(phi_w_J_dict.values())\n",
    "                phi_wjI_dict[a] = phi_wjI\n",
    "                phi_w_dict[a] = phi_wjI\n",
    "    elif count > 1:\n",
    "        total_u_j_inv = sum((phi_b / u_j) for _, phi_b, u_j in inertial_particles)\n",
    "        phi_w_remaining = phi_M - sum(phi_w_J_dict.values())\n",
    "        phi_w_jI_sum = sum((phi_b / u_j) / total_u_j_inv * phi_w_remaining for _, phi_b, u_j in inertial_particles)\n",
    "        if abs(phi_M - (sum(phi_w_J_dict.values()) + phi_w_jI_sum)) > 1e-6:\n",
    "            print(\"Warning: φ_M and the sum of φ_w_j do not match closely enough.\")\n",
    "        \n",
    "        for a, phi_b, u_j in inertial_particles:\n",
    "            phi_wjI = (phi_b / u_j) / total_u_j_inv * phi_w_remaining\n",
    "            phi_wjI_dict[a] = phi_wjI\n",
    "            phi_w_dict[a] = phi_wjI\n",
    "\n",
    "    return phi_w_dict\n",
    "\n",
    "\n",
    "# Output the updated dictionary\n",
    "#print(f\"Updated phi_w_dict: {phi_w_dict}\")\n",
    "def packing_constraints(Particles, phi_w_list):\n",
    "    ai_target, min_vel, dataf,vel= min_flux(Particles, phi_w_list)\n",
    "    phi_w_updated=calculate_phi_w(Particles, ai_target, min_vel, dataf)\n",
    "    \n",
    "    tolerance = 1e-6  # Set a tolerance for convergence\n",
    "    max_iterations = 1000\n",
    "\n",
    "    while ((phi_M >= sum(phi_w_updated.values())) and (sum(remaining_phiw_j.values()) <= 0.64) and phi_w_updated[min(phi_w_updated.keys())] <= 0.74 * (1 - sum(remaining_phiw_j.values())) and phi_smallest_int<0.74 and phi_w_updated[min(phi_w_updated.keys())]<0.64)==False:\n",
    "        remaining_phiw_j = {a: phi_w for a, phi_w in phi_w_updated.items() if a != min(phi_w_updated.keys())}\n",
    "   \n",
    "        phi_w_i = phi_w_updated[ai_target] # Wall concentration of the target particle\n",
    "        # Check if packing constraints are satisfied\n",
    "        if (phi_M >= sum(phi_w_updated.values())) and (sum(remaining_phiw_j.values()) <= 0.64) and phi_w_updated[min(phi_w_updated.keys())] <= 0.74 * (1 - sum(remaining_phiw_j.values())) and phi_smallest_int<0.74 and phi_w_updated[min(phi_w_updated.keys())]<0.64:\n",
    "            # print(f\"Iteration {i}: Packing constraints are met.\")\n",
    "            return phi_w_updated,   min_vel, ai_target, dataf,r_minimum, phi_smallest_int\n",
    "        \n",
    "        # Store the previous values of phi_w for comparison\n",
    "        phi_w_previous = phi_w_updated.copy()\n",
    "        # Update phi_w for the target particle\n",
    "        phi_w_i_corrected = phi_M * (phi_w_i / sum(phi_w_updated.values()))\n",
    "        phi_w_updated[ai_target] = phi_w_i_corrected\n",
    "        phi_w_updated_list = list(phi_w_updated.values())\n",
    "        #print(phi_w_updated, J_flux, a_target)\n",
    "        # Recalculate the flux and phi_w_j values after updating\n",
    "        ai_target, min_vel, dataf,vel= min_flux(particles, phi_w_updated_list)\n",
    "        phi_w_updated=calculate_phi_w(particles, ai_target, min_vel, dataf)\n",
    "        phi_smallest_int= phi_w_updated[min(phi_w_updated.keys())] / (1 -sum(phi_w for phi_w in phi_w_updated.values() if phi_w != phi_w_updated[min(phi_w_updated.keys())]))\n",
    "#        \n",
    "#       # #step - 9 - calculate the minimum\n",
    "        r_minimum = (min(phi_w_updated.keys()) * ( (math.sqrt(2) * ((( 4 * (4 / 3) * math.pi ) / phi_smallest_int )) ** (1/3)) - 2 ))/2\n",
    "        \n",
    "        # Check for the change in phi_w values between iterations\n",
    "        phi_w_diff = sum(abs(phi_w_updated[a] - phi_w_previous[a]) for a in phi_w_updated)\n",
    "\n",
    "        # If the change in phi_w values is smaller than the tolerance, stop the iteration\n",
    "        # if phi_w_diff < tolerance:\n",
    "        #     print(f\"Iteration {i}: Will not converger further.\")\n",
    "        #     return phi_w_updated,   min_vel, ai_target, dataf,r_minimum, phi_smallest_int\n",
    "    # If the loop completes without finding a solution\n",
    "    print(\"Warning: No solution found within the iteration limit.\")\n",
    "  \n",
    "    return phi_w_updated, min_vel, ai_target, dataf,r_minimum, phi_smallest_int\n",
    "\n",
    "#mass-transfer coefficient calculated from equation  1#step 10\n",
    "\n",
    "\n",
    "def sieving_parameters(Particles, phi_w_list):\n",
    "    phi_w_updated, J_flux, ai_target, dataf, r_min, phi_smal_int = packing_constraints(Particles, phi_w_list)\n",
    "    print(f\"Updated phi_w_dict: {phi_w_updated}. J_flux: {J_flux}\", f\"ai_target: {ai_target}\")\n",
    "    print(dataf)\n",
    "    print(f\"phi_smallest_int: {phi_smal_int:.6f}\")\n",
    "    print(f\"Minimum transmission gap {min(phi_w_updated.keys())}: {r_min} m\")\n",
    "    # for i in range(50):\n",
    "    Q=J_flux *n_f*math.pi*i_d*(L+L/20)\n",
    "    mass_transfer_k = 1.62 * (diffusion_coeff/i_d)*(((4*rho_f*Q)/(math.pi*n_f*i_d*eta_f))**(1/3))*((eta_f/(rho_f*diffusion_coeff))**(1/3))\n",
    "    # print(f\"mass transfer coefficient: {mass_transfer_k}\")\n",
    "    lambda_s_min = target_species / r_min\n",
    "    # print(f\"lambda_s_min: {lambda_s_min}\")\n",
    "    Sieving_coeff_int = ((1 - lambda_s_min) ** 2) * (2 - ((1 - lambda_s_min) ** 2)) * math.exp(-0.7146 * (lambda_s_min ** 2))\n",
    "    # print(f\"Initial Sieving coefficient: {Sieving_coeff_int}\")\n",
    "    delta_m = target_species * ((4 * (4 / 3) * math.pi) / phi_smal_int) ** (1 / 3)\n",
    "    # print(f\"delta_m: {delta_m}\")\n",
    "    phi_e_K_d = (1 - lambda_s_min) ** (9 / 2)\n",
    "    # print(f\"phi_e_K_d: {phi_e_K_d}\")\n",
    "    cake_membrane_porosity = 1 - phi_smal_int\n",
    "    # print  (f\"cake_membrane_porosity: {cake_membrane_porosity}\")\n",
    "    Peclet_m = ((J_flux * delta_m) / diffusion_coeff) * (Sieving_coeff_int / (cake_membrane_porosity * phi_e_K_d))\n",
    "    if Peclet_m >709 :\n",
    "       Peclet_m = 709\n",
    "    # print  (f\"Peclet_m: {Peclet_m}\")\n",
    "    Sieving_coeff_act = (Sieving_coeff_int * math.exp(Peclet_m)) / ((Sieving_coeff_int + math.exp(Peclet_m)) - 1)\n",
    "    #\n",
    "    Sieving_coeff_obs = Sieving_coeff_act / ((1 - Sieving_coeff_act) * math.exp(-J_flux / mass_transfer_k) + Sieving_coeff_act)\n",
    "    print(f\"Sieving coefficient: {Sieving_coeff_obs}\")\n",
    "    yields = 1 - math.exp(-4 * (Sieving_coeff_obs))\n",
    "    # print(f\"Yields: {yields}\")\n",
    "            \n",
    "    return dataf, phi_w_updated,yields,J_flux \n",
    "\n"
   ]
  },
  {
   "cell_type": "code",
   "execution_count": null,
   "metadata": {},
   "outputs": [],
   "source": [
    "sieving_parameters(particles, phi_w_guess)"
   ]
  },
  {
   "cell_type": "code",
   "execution_count": 14,
   "metadata": {},
   "outputs": [
    {
     "data": {
      "text/plain": [
       "{4e-09: 0.010465160671883607,\n",
       " 4e-08: 0.24658853108923667,\n",
       " 7e-08: 0.5734174730889493,\n",
       " 1.2e-07: 0.09008221928628729,\n",
       " 1.9e-07: 0.023934380278252877,\n",
       " 3.2e-07: 0.012367129036999063,\n",
       " 7e-07: 0.008202259032956278,\n",
       " 2.5e-06: 0}"
      ]
     },
     "execution_count": 14,
     "metadata": {},
     "output_type": "execute_result"
    }
   ],
   "source": [
    "particles\n",
    "phi_w_dict"
   ]
  },
  {
   "cell_type": "code",
   "execution_count": null,
   "metadata": {},
   "outputs": [
    {
     "name": "stdout",
     "output_type": "stream",
     "text": [
      "Iteration 334: Will not converger further.\n",
      "Iteration 38: Will not converger further.\n",
      "Iteration 34: Will not converger further.\n",
      "Iteration 40: Will not converger further.\n",
      "Iteration 47: Will not converger further.\n",
      "Iteration 42: Will not converger further.\n",
      "Iteration 26: Will not converger further.\n",
      "Iteration 65: Will not converger further.\n",
      "Iteration 51: Will not converger further.\n",
      "Iteration 61: Will not converger further.\n",
      "Iteration 35: Will not converger further.\n",
      "Iteration 51: Will not converger further.\n",
      "Iteration 43: Will not converger further.\n",
      "Iteration 29: Will not converger further.\n",
      "Iteration 4: Will not converger further.\n",
      "Iteration 17: Will not converger further.\n",
      "Iteration 33: Will not converger further.\n",
      "Warning: No solution found within the iteration limit.\n",
      "Iteration 6: Will not converger further.\n",
      "Iteration 18: Will not converger further.\n",
      "Iteration 49: Will not converger further.\n",
      "Iteration 22: Will not converger further.\n",
      "Iteration 72: Will not converger further.\n",
      "Iteration 16: Will not converger further.\n",
      "Warning: No solution found within the iteration limit.\n",
      "Iteration 4: Will not converger further.\n",
      "Warning: No solution found within the iteration limit.\n",
      "Iteration 44: Will not converger further.\n",
      "Iteration 57: Will not converger further.\n",
      "Iteration 11: Will not converger further.\n",
      "Iteration 35: Will not converger further.\n",
      "Iteration 49: Will not converger further.\n",
      "Iteration 5: Will not converger further.\n",
      "Iteration 72: Will not converger further.\n",
      "Iteration 73: Will not converger further.\n",
      "Iteration 193: Will not converger further.\n",
      "Iteration 65: Will not converger further.\n",
      "Iteration 5: Will not converger further.\n",
      "Iteration 4: Will not converger further.\n",
      "Iteration 13: Will not converger further.\n",
      "Iteration 127: Will not converger further.\n",
      "Iteration 3: Will not converger further.\n",
      "Iteration 180: Will not converger further.\n",
      "Iteration 99: Will not converger further.\n",
      "Iteration 23: Will not converger further.\n",
      "Iteration 4: Will not converger further.\n",
      "Iteration 28: Will not converger further.\n",
      "Iteration 41: Will not converger further.\n",
      "Iteration 51: Will not converger further.\n",
      "Iteration 224: Will not converger further.\n"
     ]
    },
    {
     "name": "stderr",
     "output_type": "stream",
     "text": [
      "/var/folders/bm/sy1kc1hn56j5hgn9wdzg9yhr0000gn/T/ipykernel_49782/1300745903.py:244: RuntimeWarning: invalid value encountered in scalar power\n",
      "  r_minimum = (min(phi_w_updated.keys()) * ( (math.sqrt(2) * ((( 4 * (4 / 3) * math.pi ) / phi_smallest_int )) ** (1/3)) - 2 ))/2\n"
     ]
    },
    {
     "name": "stdout",
     "output_type": "stream",
     "text": [
      "Iteration 286: Will not converger further.\n"
     ]
    },
    {
     "name": "stderr",
     "output_type": "stream",
     "text": [
      "/var/folders/bm/sy1kc1hn56j5hgn9wdzg9yhr0000gn/T/ipykernel_49782/1300745903.py:244: RuntimeWarning: invalid value encountered in scalar power\n",
      "  r_minimum = (min(phi_w_updated.keys()) * ( (math.sqrt(2) * ((( 4 * (4 / 3) * math.pi ) / phi_smallest_int )) ** (1/3)) - 2 ))/2\n"
     ]
    },
    {
     "name": "stdout",
     "output_type": "stream",
     "text": [
      "Iteration 215: Will not converger further.\n"
     ]
    },
    {
     "name": "stderr",
     "output_type": "stream",
     "text": [
      "/var/folders/bm/sy1kc1hn56j5hgn9wdzg9yhr0000gn/T/ipykernel_49782/1300745903.py:244: RuntimeWarning: invalid value encountered in scalar power\n",
      "  r_minimum = (min(phi_w_updated.keys()) * ( (math.sqrt(2) * ((( 4 * (4 / 3) * math.pi ) / phi_smallest_int )) ** (1/3)) - 2 ))/2\n"
     ]
    },
    {
     "name": "stdout",
     "output_type": "stream",
     "text": [
      "Iteration 24: Will not converger further.\n"
     ]
    },
    {
     "name": "stderr",
     "output_type": "stream",
     "text": [
      "/var/folders/bm/sy1kc1hn56j5hgn9wdzg9yhr0000gn/T/ipykernel_49782/1300745903.py:244: RuntimeWarning: invalid value encountered in scalar power\n",
      "  r_minimum = (min(phi_w_updated.keys()) * ( (math.sqrt(2) * ((( 4 * (4 / 3) * math.pi ) / phi_smallest_int )) ** (1/3)) - 2 ))/2\n"
     ]
    },
    {
     "name": "stdout",
     "output_type": "stream",
     "text": [
      "Iteration 52: Will not converger further.\n",
      "Iteration 12: Will not converger further.\n"
     ]
    },
    {
     "name": "stderr",
     "output_type": "stream",
     "text": [
      "/var/folders/bm/sy1kc1hn56j5hgn9wdzg9yhr0000gn/T/ipykernel_49782/1300745903.py:244: RuntimeWarning: invalid value encountered in scalar power\n",
      "  r_minimum = (min(phi_w_updated.keys()) * ( (math.sqrt(2) * ((( 4 * (4 / 3) * math.pi ) / phi_smallest_int )) ** (1/3)) - 2 ))/2\n",
      "/var/folders/bm/sy1kc1hn56j5hgn9wdzg9yhr0000gn/T/ipykernel_49782/1300745903.py:244: RuntimeWarning: invalid value encountered in scalar power\n",
      "  r_minimum = (min(phi_w_updated.keys()) * ( (math.sqrt(2) * ((( 4 * (4 / 3) * math.pi ) / phi_smallest_int )) ** (1/3)) - 2 ))/2\n",
      "/var/folders/bm/sy1kc1hn56j5hgn9wdzg9yhr0000gn/T/ipykernel_49782/1300745903.py:244: RuntimeWarning: invalid value encountered in scalar power\n",
      "  r_minimum = (min(phi_w_updated.keys()) * ( (math.sqrt(2) * ((( 4 * (4 / 3) * math.pi ) / phi_smallest_int )) ** (1/3)) - 2 ))/2\n",
      "/var/folders/bm/sy1kc1hn56j5hgn9wdzg9yhr0000gn/T/ipykernel_49782/1300745903.py:244: RuntimeWarning: invalid value encountered in scalar power\n",
      "  r_minimum = (min(phi_w_updated.keys()) * ( (math.sqrt(2) * ((( 4 * (4 / 3) * math.pi ) / phi_smallest_int )) ** (1/3)) - 2 ))/2\n"
     ]
    },
    {
     "name": "stdout",
     "output_type": "stream",
     "text": [
      "Iteration 7: Will not converger further.\n",
      "Iteration 24: Will not converger further.\n",
      "Iteration 36: Will not converger further.\n"
     ]
    },
    {
     "name": "stderr",
     "output_type": "stream",
     "text": [
      "/var/folders/bm/sy1kc1hn56j5hgn9wdzg9yhr0000gn/T/ipykernel_49782/1300745903.py:244: RuntimeWarning: invalid value encountered in scalar power\n",
      "  r_minimum = (min(phi_w_updated.keys()) * ( (math.sqrt(2) * ((( 4 * (4 / 3) * math.pi ) / phi_smallest_int )) ** (1/3)) - 2 ))/2\n"
     ]
    },
    {
     "name": "stdout",
     "output_type": "stream",
     "text": [
      "Iteration 50: Will not converger further.\n"
     ]
    },
    {
     "name": "stderr",
     "output_type": "stream",
     "text": [
      "/var/folders/bm/sy1kc1hn56j5hgn9wdzg9yhr0000gn/T/ipykernel_49782/1300745903.py:244: RuntimeWarning: invalid value encountered in scalar power\n",
      "  r_minimum = (min(phi_w_updated.keys()) * ( (math.sqrt(2) * ((( 4 * (4 / 3) * math.pi ) / phi_smallest_int )) ** (1/3)) - 2 ))/2\n"
     ]
    },
    {
     "name": "stdout",
     "output_type": "stream",
     "text": [
      "Iteration 98: Will not converger further.\n"
     ]
    },
    {
     "name": "stderr",
     "output_type": "stream",
     "text": [
      "/var/folders/bm/sy1kc1hn56j5hgn9wdzg9yhr0000gn/T/ipykernel_49782/1300745903.py:244: RuntimeWarning: invalid value encountered in scalar power\n",
      "  r_minimum = (min(phi_w_updated.keys()) * ( (math.sqrt(2) * ((( 4 * (4 / 3) * math.pi ) / phi_smallest_int )) ** (1/3)) - 2 ))/2\n"
     ]
    },
    {
     "name": "stdout",
     "output_type": "stream",
     "text": [
      "Iteration 15: Will not converger further.\n"
     ]
    },
    {
     "name": "stderr",
     "output_type": "stream",
     "text": [
      "/var/folders/bm/sy1kc1hn56j5hgn9wdzg9yhr0000gn/T/ipykernel_49782/1300745903.py:244: RuntimeWarning: invalid value encountered in scalar power\n",
      "  r_minimum = (min(phi_w_updated.keys()) * ( (math.sqrt(2) * ((( 4 * (4 / 3) * math.pi ) / phi_smallest_int )) ** (1/3)) - 2 ))/2\n"
     ]
    },
    {
     "name": "stdout",
     "output_type": "stream",
     "text": [
      "Iteration 13: Will not converger further.\n"
     ]
    },
    {
     "name": "stderr",
     "output_type": "stream",
     "text": [
      "/var/folders/bm/sy1kc1hn56j5hgn9wdzg9yhr0000gn/T/ipykernel_49782/1300745903.py:244: RuntimeWarning: invalid value encountered in scalar power\n",
      "  r_minimum = (min(phi_w_updated.keys()) * ( (math.sqrt(2) * ((( 4 * (4 / 3) * math.pi ) / phi_smallest_int )) ** (1/3)) - 2 ))/2\n"
     ]
    },
    {
     "name": "stdout",
     "output_type": "stream",
     "text": [
      "Iteration 108: Will not converger further.\n"
     ]
    },
    {
     "name": "stderr",
     "output_type": "stream",
     "text": [
      "/var/folders/bm/sy1kc1hn56j5hgn9wdzg9yhr0000gn/T/ipykernel_49782/1300745903.py:244: RuntimeWarning: invalid value encountered in scalar power\n",
      "  r_minimum = (min(phi_w_updated.keys()) * ( (math.sqrt(2) * ((( 4 * (4 / 3) * math.pi ) / phi_smallest_int )) ** (1/3)) - 2 ))/2\n"
     ]
    },
    {
     "name": "stdout",
     "output_type": "stream",
     "text": [
      "Iteration 11: Will not converger further.\n"
     ]
    },
    {
     "name": "stderr",
     "output_type": "stream",
     "text": [
      "/var/folders/bm/sy1kc1hn56j5hgn9wdzg9yhr0000gn/T/ipykernel_49782/1300745903.py:244: RuntimeWarning: invalid value encountered in scalar power\n",
      "  r_minimum = (min(phi_w_updated.keys()) * ( (math.sqrt(2) * ((( 4 * (4 / 3) * math.pi ) / phi_smallest_int )) ** (1/3)) - 2 ))/2\n",
      "/var/folders/bm/sy1kc1hn56j5hgn9wdzg9yhr0000gn/T/ipykernel_49782/1300745903.py:244: RuntimeWarning: invalid value encountered in scalar power\n",
      "  r_minimum = (min(phi_w_updated.keys()) * ( (math.sqrt(2) * ((( 4 * (4 / 3) * math.pi ) / phi_smallest_int )) ** (1/3)) - 2 ))/2\n"
     ]
    },
    {
     "name": "stdout",
     "output_type": "stream",
     "text": [
      "Iteration 11: Will not converger further.\n",
      "Iteration 9: Will not converger further.\n"
     ]
    },
    {
     "name": "stderr",
     "output_type": "stream",
     "text": [
      "/var/folders/bm/sy1kc1hn56j5hgn9wdzg9yhr0000gn/T/ipykernel_49782/1300745903.py:244: RuntimeWarning: invalid value encountered in scalar power\n",
      "  r_minimum = (min(phi_w_updated.keys()) * ( (math.sqrt(2) * ((( 4 * (4 / 3) * math.pi ) / phi_smallest_int )) ** (1/3)) - 2 ))/2\n"
     ]
    },
    {
     "name": "stdout",
     "output_type": "stream",
     "text": [
      "Iteration 18: Will not converger further.\n"
     ]
    },
    {
     "name": "stderr",
     "output_type": "stream",
     "text": [
      "/var/folders/bm/sy1kc1hn56j5hgn9wdzg9yhr0000gn/T/ipykernel_49782/1300745903.py:244: RuntimeWarning: invalid value encountered in scalar power\n",
      "  r_minimum = (min(phi_w_updated.keys()) * ( (math.sqrt(2) * ((( 4 * (4 / 3) * math.pi ) / phi_smallest_int )) ** (1/3)) - 2 ))/2\n"
     ]
    },
    {
     "name": "stdout",
     "output_type": "stream",
     "text": [
      "Iteration 107: Will not converger further.\n",
      "Iteration 111: Will not converger further.\n",
      "Iteration 24: Will not converger further.\n",
      "Iteration 23: Will not converger further.\n",
      "Iteration 161: Will not converger further.\n",
      "Iteration 16: Will not converger further.\n",
      "Iteration 21: Will not converger further.\n",
      "Iteration 7: Will not converger further.\n",
      "Iteration 16: Will not converger further.\n",
      "Iteration 10: Will not converger further.\n",
      "Iteration 51: Will not converger further.\n",
      "Iteration 29: Will not converger further.\n",
      "Iteration 46: Will not converger further.\n",
      "Iteration 44: Will not converger further.\n",
      "Iteration 107: Will not converger further.\n",
      "Iteration 13: Will not converger further.\n",
      "Iteration 44: Will not converger further.\n",
      "Iteration 25: Will not converger further.\n",
      "Iteration 31: Will not converger further.\n",
      "Iteration 65: Will not converger further.\n",
      "Iteration 21: Will not converger further.\n",
      "Iteration 20: Will not converger further.\n",
      "Iteration 24: Will not converger further.\n",
      "Iteration 18: Will not converger further.\n"
     ]
    },
    {
     "ename": "ValueError",
     "evalue": "math domain error",
     "output_type": "error",
     "traceback": [
      "\u001b[0;31m---------------------------------------------------------------------------\u001b[0m",
      "\u001b[0;31mValueError\u001b[0m                                Traceback (most recent call last)",
      "Cell \u001b[0;32mIn[66], line 16\u001b[0m\n\u001b[1;32m     14\u001b[0m gamma_w \u001b[38;5;241m=\u001b[39m gamma_w_list[i]  \u001b[38;5;66;03m# shear rate s-1\u001b[39;00m\n\u001b[1;32m     15\u001b[0m L \u001b[38;5;241m=\u001b[39m \u001b[38;5;241m0.3\u001b[39m\n\u001b[0;32m---> 16\u001b[0m data_F, phi_w_dict, Yield, J_flux \u001b[38;5;241m=\u001b[39m sieving_parameters(particles, phi_w_guess)\n\u001b[1;32m     18\u001b[0m \u001b[38;5;66;03m# Collect J_pred and phi_w values for all particle sizes\u001b[39;00m\n\u001b[1;32m     19\u001b[0m j_pred_values \u001b[38;5;241m=\u001b[39m [data_F\u001b[38;5;241m.\u001b[39mloc[data_F[\u001b[38;5;124m'\u001b[39m\u001b[38;5;124mradius\u001b[39m\u001b[38;5;124m'\u001b[39m] \u001b[38;5;241m==\u001b[39m size, \u001b[38;5;124m'\u001b[39m\u001b[38;5;124mmax_velocity\u001b[39m\u001b[38;5;124m'\u001b[39m]\u001b[38;5;241m.\u001b[39mvalues[\u001b[38;5;241m0\u001b[39m] \u001b[38;5;28;01mfor\u001b[39;00m size \u001b[38;5;129;01min\u001b[39;00m particle_sizes]\n",
      "Cell \u001b[0;32mIn[64], line 262\u001b[0m, in \u001b[0;36msieving_parameters\u001b[0;34m(Particles, phi_w_list)\u001b[0m\n\u001b[1;32m    261\u001b[0m \u001b[38;5;28;01mdef\u001b[39;00m \u001b[38;5;21msieving_parameters\u001b[39m(Particles, phi_w_list):\n\u001b[0;32m--> 262\u001b[0m     phi_w_updated, J_flux, ai_target, dataf, r_min, phi_smal_int \u001b[38;5;241m=\u001b[39m packing_constraints(Particles, phi_w_list)\n\u001b[1;32m    263\u001b[0m     \u001b[38;5;66;03m# print(f\"Updated phi_w_dict: {phi_w_updated}. J_flux: {J_flux}\", f\"ai_target: {ai_target}\")\u001b[39;00m\n\u001b[1;32m    264\u001b[0m     \u001b[38;5;66;03m# print(dataf)\u001b[39;00m\n\u001b[1;32m    265\u001b[0m     \u001b[38;5;66;03m# print(f\"phi_smallest_int: {phi_smal_int:.6f}\")\u001b[39;00m\n\u001b[1;32m    266\u001b[0m     \u001b[38;5;66;03m# print(f\"Minimum transmission gap {min(phi_w_updated.keys())}: {r_min} m\")\u001b[39;00m\n\u001b[1;32m    267\u001b[0m     S_0\u001b[38;5;241m=\u001b[39m\u001b[38;5;241m0\u001b[39m\n",
      "Cell \u001b[0;32mIn[64], line 239\u001b[0m, in \u001b[0;36mpacking_constraints\u001b[0;34m(Particles, phi_w_list)\u001b[0m\n\u001b[1;32m    236\u001b[0m phi_w_updated_list \u001b[38;5;241m=\u001b[39m \u001b[38;5;28mlist\u001b[39m(phi_w_updated\u001b[38;5;241m.\u001b[39mvalues())\n\u001b[1;32m    237\u001b[0m \u001b[38;5;66;03m#print(phi_w_updated, J_flux, a_target)\u001b[39;00m\n\u001b[1;32m    238\u001b[0m \u001b[38;5;66;03m# Recalculate the flux and phi_w_j values after updating\u001b[39;00m\n\u001b[0;32m--> 239\u001b[0m ai_target, min_vel, dataf,vel\u001b[38;5;241m=\u001b[39m min_flux(particles, phi_w_updated_list)\n\u001b[1;32m    240\u001b[0m phi_w_updated\u001b[38;5;241m=\u001b[39mcalculate_phi_w(particles, ai_target, min_vel, dataf)\n\u001b[1;32m    241\u001b[0m phi_smallest_int\u001b[38;5;241m=\u001b[39m phi_w_updated[\u001b[38;5;28mmin\u001b[39m(phi_w_updated\u001b[38;5;241m.\u001b[39mkeys())] \u001b[38;5;241m/\u001b[39m (\u001b[38;5;241m1\u001b[39m \u001b[38;5;241m-\u001b[39m\u001b[38;5;28msum\u001b[39m(phi_w \u001b[38;5;28;01mfor\u001b[39;00m phi_w \u001b[38;5;129;01min\u001b[39;00m phi_w_updated\u001b[38;5;241m.\u001b[39mvalues() \u001b[38;5;28;01mif\u001b[39;00m phi_w \u001b[38;5;241m!=\u001b[39m phi_w_updated[\u001b[38;5;28mmin\u001b[39m(phi_w_updated\u001b[38;5;241m.\u001b[39mkeys())]))\n",
      "Cell \u001b[0;32mIn[64], line 101\u001b[0m, in \u001b[0;36mmin_flux\u001b[0;34m(Particles, phi_w_list)\u001b[0m\n\u001b[1;32m     98\u001b[0m phi_b \u001b[38;5;241m=\u001b[39m particle[\u001b[38;5;124m'\u001b[39m\u001b[38;5;124mphi_b\u001b[39m\u001b[38;5;124m'\u001b[39m]\n\u001b[1;32m    100\u001b[0m \u001b[38;5;66;03m# Calculate velocities\u001b[39;00m\n\u001b[0;32m--> 101\u001b[0m brownian_velocity \u001b[38;5;241m=\u001b[39m J_brownian(a, phi_w, phi_b)\n\u001b[1;32m    102\u001b[0m shear_velocity \u001b[38;5;241m=\u001b[39m J_shear(a, phi_w, phi_b)\n\u001b[1;32m    103\u001b[0m inertial_velocity \u001b[38;5;241m=\u001b[39m J_inertial(a)\n",
      "Cell \u001b[0;32mIn[64], line 68\u001b[0m, in \u001b[0;36mJ_brownian\u001b[0;34m(a, phi_w, phi_b)\u001b[0m\n\u001b[1;32m     66\u001b[0m denominator \u001b[38;5;241m=\u001b[39m (eta_f \u001b[38;5;241m*\u001b[39m\u001b[38;5;241m*\u001b[39m \u001b[38;5;241m2\u001b[39m) \u001b[38;5;241m*\u001b[39m (a \u001b[38;5;241m*\u001b[39m\u001b[38;5;241m*\u001b[39m \u001b[38;5;241m2\u001b[39m) \u001b[38;5;241m*\u001b[39m L\n\u001b[1;32m     67\u001b[0m term \u001b[38;5;241m=\u001b[39m (numerator \u001b[38;5;241m/\u001b[39m denominator) \u001b[38;5;241m*\u001b[39m\u001b[38;5;241m*\u001b[39m (\u001b[38;5;241m1\u001b[39m\u001b[38;5;241m/\u001b[39m\u001b[38;5;241m3\u001b[39m)\n\u001b[0;32m---> 68\u001b[0m J \u001b[38;5;241m=\u001b[39m \u001b[38;5;241m0.114\u001b[39m \u001b[38;5;241m*\u001b[39m term \u001b[38;5;241m*\u001b[39m math\u001b[38;5;241m.\u001b[39mlog(phi_w \u001b[38;5;241m/\u001b[39m phi_b)\n\u001b[1;32m     69\u001b[0m \u001b[38;5;28;01mreturn\u001b[39;00m J\n",
      "\u001b[0;31mValueError\u001b[0m: math domain error"
     ]
    }
   ],
   "source": [
    "# Create columns for J_pred and phi_w for all particle sizes\n",
    "particle_sizes = [particle['radius'] for particle in particles]\n",
    "j_pred_columns = [f'J_pred_{int(size*1e9)}' for size in particle_sizes]\n",
    "phi_w_columns = [f'phi_w_{int(size*1e9)}' for size in particle_sizes]\n",
    "\n",
    "# Initialize the DataFrame with the new columns\n",
    "data_figs_columns = ['shear_rate', 'J_flux', 'yield'] + j_pred_columns + phi_w_columns\n",
    "data_figs = pd.DataFrame(columns=data_figs_columns)\n",
    "\n",
    "gamma_w_list = range(20000, 90000, 500)\n",
    "\n",
    "for i in range(len(gamma_w_list)):\n",
    "    phi_w_dict = {key: values for key, values in zip([particle['radius'] for particle in particles], phi_w_guess)}\n",
    "    gamma_w = gamma_w_list[i]  # shear rate s-1\n",
    "    L = 0.3\n",
    "    min_flux(particles, phi_w_guess)\n",
    "    \n",
    "    # Collect J_pred and phi_w values for all particle sizes\n",
    "    j_pred_values = [data_F.loc[data_F['radius'] == size, 'max_velocity'].values[0] for size in particle_sizes]\n",
    "    phi_w_values = [phi_w_dict[size] for size in particle_sizes]\n",
    "    \n",
    "    # Combine all values into a single row\n",
    "    row_values = [gamma_w, J_flux, Yield] + j_pred_values + phi_w_values\n",
    "    data_figs.loc[i] = row_values"
   ]
  },
  {
   "cell_type": "code",
   "execution_count": 3,
   "metadata": {},
   "outputs": [],
   "source": [
    "# Create columns for J_pred for all particle sizes\n",
    "particle_sizes = [particle['radius'] for particle in particles]\n",
    "j_pred_columns = [f'J_pred_{int(size*1e9)}' for size in particle_sizes]\n",
    "\n",
    "# Initialize the DataFrame with the new columns\n",
    "data_figs_2_columns = ['shear_rate'] + j_pred_columns\n",
    "data_figs_2 = pd.DataFrame(columns=data_figs_2_columns)\n",
    "gamma_w_list = range(20000, 90000, 500)\n",
    "for i in range(len(gamma_w_list)):\n",
    "    phi_w_dict = {key: values for key, values in zip([particle['radius'] for particle in particles], phi_w_guess)}\n",
    "    gamma_w = gamma_w_list[i]  # shear rate s-1\n",
    "\n",
    "    a_T, min_J, set_datas, vel_df = min_flux(particles, phi_w_guess)\n",
    "    \n",
    "    # Collect J_pred values for all particle sizes\n",
    "    j_pred_values = [set_datas.loc[set_datas['radius'] == size, 'max_velocity'].values[0] for size in particle_sizes]\n",
    "    \n",
    "    # Combine all values into a single row\n",
    "    row_values = [gamma_w] + j_pred_values\n",
    "    data_figs_2.loc[i] = row_values"
   ]
  },
  {
   "cell_type": "code",
   "execution_count": 9,
   "metadata": {},
   "outputs": [
    {
     "data": {
      "image/png": "[encoded data removed]",
      "text/plain": [
       "<Figure size 1000x600 with 1 Axes>"
      ]
     },
     "metadata": {},
     "output_type": "display_data"
    }
   ],
   "source": [
    "plt.figure(figsize=(10, 6))\n",
    "for column in j_pred_columns:\n",
    "    plt.plot(data_figs_2['shear_rate'], data_figs_2[column] * 3600 * 1000, label=column)\n",
    "plt.xlabel('Shear Rate')\n",
    "plt.ylabel('J_pred (converted)')\n",
    "plt.title('J_pred vs Shear Rate')\n",
    "plt.legend()\n",
    "plt.ylim(0, 50)\n",
    "plt.show()\n"
   ]
  },
  {
   "cell_type": "code",
   "execution_count": 107,
   "metadata": {},
   "outputs": [
    {
     "data": {
      "text/plain": [
       "0.966304"
      ]
     },
     "execution_count": 107,
     "metadata": {},
     "output_type": "execute_result"
    }
   ],
   "source": [
    "phi_M"
   ]
  },
  {
   "cell_type": "code",
   "execution_count": null,
   "metadata": {},
   "outputs": [],
   "source": []
  }
 ],
 "metadata": {
  "kernelspec": {
   "display_name": "base",
   "language": "python",
   "name": "python3"
  },
  "language_info": {
   "codemirror_mode": {
    "name": "ipython",
    "version": 3
   },
   "file_extension": ".py",
   "mimetype": "text/x-python",
   "name": "python",
   "nbconvert_exporter": "python",
   "pygments_lexer": "ipython3",
   "version": "3.11.5"
  }
 },
 "nbformat": 4,
 "nbformat_minor": 2
}
